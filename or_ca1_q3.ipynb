{
 "cells": [
  {
   "cell_type": "code",
   "execution_count": 12,
   "metadata": {},
   "outputs": [],
   "source": [
    "import numpy as np \n",
    "import math"
   ]
  },
  {
   "cell_type": "code",
   "execution_count": 27,
   "metadata": {},
   "outputs": [],
   "source": [
    "def find_min_cost(str1, str2, l1, l2):\n",
    "\tmap = []\n",
    "\tfor i in range(l1+1):\n",
    "\t\trow = []\n",
    "\t\tfor j in range(l2+1):\n",
    "\t\t\trow.append(0)\n",
    "\t\tmap.append(row)\n",
    "\n",
    "\tfor i in range(l1 + 1):\n",
    "\t\tfor j in range(l2 + 1):\n",
    "\t\t\tif i == 0:\n",
    "\t\t\t\tmap[i][j] = j \n",
    "\n",
    "\t\t\telif j == 0:\n",
    "\t\t\t\tmap[i][j] = i \n",
    "\n",
    "\t\t\telif str1[i-1] == str2[j-1]:\n",
    "\t\t\t\tmap[i][j] = map[i-1][j-1]\n",
    "\n",
    "\t\t\telse:\n",
    "\t\t\t\tmap[i][j] = 1 + min(map[i][j-1],map[i-1][j],2*map[i-1][j-1])\n",
    "\treturn map[l1][l2]"
   ]
  },
  {
   "cell_type": "code",
   "execution_count": 29,
   "metadata": {},
   "outputs": [
    {
     "name": "stdout",
     "output_type": "stream",
     "text": [
      "min cost: 3\n"
     ]
    }
   ],
   "source": [
    "str1 = \"inside\"\n",
    "str2 = \"index\"\n",
    "print('min cost:', find_min_cost(str1, str2, len(str1), len(str2)))"
   ]
  },
  {
   "cell_type": "code",
   "execution_count": 37,
   "metadata": {},
   "outputs": [],
   "source": [
    "def LCS(str1, str2, l1, l2):\n",
    "    map = []\n",
    "    for i in range(l1+1):\n",
    "        row = []\n",
    "        for j in range(l2+1):\n",
    "            row.append(0)\n",
    "        map.append(row)\n",
    "\n",
    "    for i in range(l1+1):\n",
    "        for j in range(l2+1):\n",
    "            if i == 0 or j == 0:\n",
    "                map[i][j] = 0\n",
    "            elif str1[i-1] == str2[j-1]:\n",
    "                map[i][j] = map[i-1][j-1] + 1\n",
    "            else:\n",
    "                map[i][j] = max(map[i-1][j], map[i][j-1])\n",
    "\n",
    "    index = map[l1][l2]\n",
    "\n",
    "    LCS = [\"\"] * (index+1)\n",
    "    LCS[index] = \"\"\n",
    "\n",
    "    i = l1\n",
    "    j = l2\n",
    "    while i > 0 and j > 0:\n",
    "\n",
    "        if str1[i-1] == str2[j-1]:\n",
    "            LCS[index-1] = str1[i-1]\n",
    "            i -= 1\n",
    "            j -= 1\n",
    "            index -= 1\n",
    "\n",
    "        elif map[i-1][j] > map[i][j-1]:\n",
    "            i -= 1\n",
    "        else:\n",
    "            j -= 1\n",
    "            \n",
    "    print(\"str1 : \" + str1 + \"\\nstr2 : \" + str2)\n",
    "    print(\"LCS: \" + \"\".join(LCS))\n",
    "    return \"\".join(LCS)"
   ]
  },
  {
   "cell_type": "code",
   "execution_count": 38,
   "metadata": {},
   "outputs": [
    {
     "name": "stdout",
     "output_type": "stream",
     "text": [
      "str1 : abdacbab\n",
      "str2 : acebfca\n",
      "LCS: acba\n",
      "The LCS is 4\n"
     ]
    }
   ],
   "source": [
    "str1 = \"abdacbab\"\n",
    "str2 = \"acebfca\"\n",
    "lcs = LCS(str1, str2, len(str1), len(str2))\n",
    "print('The LCS is', len(lcs))"
   ]
  }
 ],
 "metadata": {
  "kernelspec": {
   "display_name": "base",
   "language": "python",
   "name": "python3"
  },
  "language_info": {
   "codemirror_mode": {
    "name": "ipython",
    "version": 3
   },
   "file_extension": ".py",
   "mimetype": "text/x-python",
   "name": "python",
   "nbconvert_exporter": "python",
   "pygments_lexer": "ipython3",
   "version": "3.9.7"
  },
  "orig_nbformat": 4,
  "vscode": {
   "interpreter": {
    "hash": "61b44da3ef299b5a24cadc37a78de795444490e854f561d2afd41125faa70719"
   }
  }
 },
 "nbformat": 4,
 "nbformat_minor": 2
}
